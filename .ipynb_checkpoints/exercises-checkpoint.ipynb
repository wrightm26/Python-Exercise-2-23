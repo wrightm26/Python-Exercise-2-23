{
 "cells": [
  {
   "cell_type": "markdown",
   "id": "3bdae159",
   "metadata": {},
   "source": [
    "## Exercises\n",
    "### 1) Create a program that allows a user to continue to add people to an address book until the user quits. Once the user quits, break out of the loop and print out the name and address of everyone in the address book\n",
    " "
   ]
  },
  {
   "cell_type": "markdown",
   "id": "d5f26d78",
   "metadata": {},
   "source": [
    "Steps\n"
   ]
  },
  {
   "cell_type": "markdown",
   "id": "6d803f3d",
   "metadata": {},
   "source": [
    "Create a function that will ask user for name and addresses and stores them in a dictionary\n"
   ]
  },
  {
   "cell_type": "markdown",
   "id": "25295f44",
   "metadata": {},
   "source": [
    "Define an empty dictionary with which to work (global or local variable?)\n",
    " "
   ]
  },
  {
   "cell_type": "markdown",
   "id": "588a36cb",
   "metadata": {},
   "source": [
    "Begin a loop that will continue to ask a user for information until the user \"quits\"\n"
   ]
  },
  {
   "cell_type": "markdown",
   "id": "5ec67765",
   "metadata": {},
   "source": [
    "Add information to the dictionary with name as the key and address as the value\n",
    " "
   ]
  },
  {
   "cell_type": "markdown",
   "id": "dcbfe31a",
   "metadata": {},
   "source": [
    "If the user does quit, end the loop\n"
   ]
  },
  {
   "cell_type": "markdown",
   "id": "20e94080",
   "metadata": {},
   "source": [
    " Print out the information from the dictionary in a formatted way\n",
    " "
   ]
  },
  {
   "cell_type": "markdown",
   "id": "87ca1e5a",
   "metadata": {},
   "source": [
    "Execute/Call the function"
   ]
  },
  {
   "cell_type": "code",
   "execution_count": 1,
   "id": "d68231e2",
   "metadata": {
    "scrolled": true
   },
   "outputs": [
    {
     "name": "stdout",
     "output_type": "stream",
     "text": [
      "\n",
      "What is your first and last name?\n",
      "Type 'quit' to quit: \n",
      "mickel\n",
      "\n",
      "What is your address?\n",
      "Type 'quit' to quit:  \n",
      "quit\n",
      "\n",
      "We hope to hear from you again!\n"
     ]
    },
    {
     "data": {
      "text/plain": [
       "{'mickel': {'full_name': 'mickel', 'address_info': 'quit'}}"
      ]
     },
     "execution_count": 1,
     "metadata": {},
     "output_type": "execute_result"
    }
   ],
   "source": [
    "address_book = {}\n",
    "def ask_info():\n",
    "    while True:\n",
    "        fullname = input(\"\\nWhat is your first and last name?\\nType 'quit' to quit: \\n\")\n",
    "        if fullname == 'quit':\n",
    "            break\n",
    "        address = input(\"\\nWhat is your address?\\nType 'quit' to quit:  \\n\")\n",
    "        address_book[fullname] = {'full_name': fullname, 'address_info': address}\n",
    "        if address == 'quit':\n",
    "            break\n",
    "        address_book[fullname] = {'full_name': fullname, 'address_info': address}\n",
    "        repeat = input(\"\\nWould you like to add someone else to the address book?\\nyes/no: \\n\")\n",
    "        if repeat == 'no':\n",
    "            print(\"\\nThank you for adding your information to our address book!\\n\")\n",
    "            break\n",
    "        else:\n",
    "            address_book[fullname] = {'full_name': fullname, 'address_info': address}\n",
    "            continue\n",
    "    print(\"\\nThank you for adding your information to our address book!\\n\")\n",
    "    print(\"\\nWe hope to hear from you again!\")\n",
    "    return address_book\n",
    "\n",
    "ask_info()\n"
   ]
  },
  {
   "cell_type": "markdown",
   "id": "0b7e193d",
   "metadata": {},
   "source": [
    "### 2) Best Time to Meet\n",
    "Billy is trying to figure out if there is a time that he and his team can meet to work on the project. His three teammates each give him a list of times they are available ('HH:MM' 24-hour). Create a function that will take in an original list plus any number of lists of teammate's available times (remember *args) and return a list of times where everyone can meet."
   ]
  },
  {
   "cell_type": "code",
   "execution_count": 8,
   "id": "f4748c89",
   "metadata": {},
   "outputs": [
    {
     "data": {
      "text/plain": [
       "{'12:00', '14:30'}"
      ]
     },
     "execution_count": 8,
     "metadata": {},
     "output_type": "execute_result"
    }
   ],
   "source": [
    "person1 = ['09:00', '10:30', '11:30', '12:00', '13:00', '14:30']\n",
    "person2 = ['09:30', '10:00', '10:30', '12:00', '14:30', '16:00']\n",
    "person3 = ['09:00', '09:30', '11:00', '11:30', '12:00', '13:30', '14:30', '15:00']\n",
    "person4 = ['11:00', '11:30', '12:00', '14:00', '14:30', '16:30', '17:00']\n",
    "# Available Times: '12:00' and '14:30'\n",
    "\n",
    "def available(*people):\n",
    "    change1 = set(person1)\n",
    "    change2 = set(person2)\n",
    "    change3 = set(person3)\n",
    "    change4 = set(person4)\n",
    "    time_available = change1 & change2 & change3 & change4\n",
    "    return time_available\n",
    "    \n",
    "available(person1, person2, person3, person4)\n",
    "\n",
    "#maybe use *args"
   ]
  },
  {
   "cell_type": "code",
   "execution_count": null,
   "id": "d8433f08",
   "metadata": {},
   "outputs": [],
   "source": []
  }
 ],
 "metadata": {
  "kernelspec": {
   "display_name": "Python 3 (ipykernel)",
   "language": "python",
   "name": "python3"
  },
  "language_info": {
   "codemirror_mode": {
    "name": "ipython",
    "version": 3
   },
   "file_extension": ".py",
   "mimetype": "text/x-python",
   "name": "python",
   "nbconvert_exporter": "python",
   "pygments_lexer": "ipython3",
   "version": "3.9.13"
  }
 },
 "nbformat": 4,
 "nbformat_minor": 5
}
